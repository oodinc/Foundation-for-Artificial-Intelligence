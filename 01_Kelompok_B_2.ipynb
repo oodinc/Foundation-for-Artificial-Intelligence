{
  "cells": [
    {
      "cell_type": "markdown",
      "metadata": {
        "id": "v4yL2-lQ9B_E"
      },
      "source": [
        "Paper Money: <br>\n",
        "1. Rp 100,000    \n",
        "2. Rp 50,000   \n",
        "3. Rp 20,000   \n",
        "4. Rp 10,000   \n",
        "5. Rp 5,000   \n",
        "6. Rp 2,000\n",
        "<br>\n",
        "<br>\n",
        "Coins: <br>\n",
        "1. Rp 1,000  \n",
        "2. Rp 500  \n",
        "3. Rp 200\n",
        "4. Rp 100  \n",
        "*To make it easier, we assume that all Rp. 1000 denominations are coins.\n",
        "\n",
        "There are circumstances where the bank must liquidate all customer savings in the form of money, if the customer requests it.\n",
        "And imagine this is happening right now in front of you, help the bank to calculate how many denominations of money are needed.\n",
        "\n",
        "Here is the rule:\n",
        "\n",
        "1. Bank must prioritize the largest denominations first to be issued.\n",
        "2. If there is a balance that cannot be cashed, the bank must inform it.\n",
        "3. Bank must calculate how many number of Paper Money needed and Coins needed.\n",
        "4. Banks can only disburse a maximum amount of 1 billion Rupiah\n",
        "\n",
        "\n",
        "\n",
        "Make a python code that receives an integer number of customer savings from 0 - 1 Billions.\n"
      ]
    },
    {
      "cell_type": "code",
      "execution_count": null,
      "metadata": {
        "colab": {
          "base_uri": "https://localhost:8080/"
        },
        "id": "BadZYYvyin7Y",
        "outputId": "4a7b0133-7fb1-4ad3-e879-a463c47f0847"
      },
      "outputs": [
        {
          "output_type": "stream",
          "name": "stdout",
          "text": [
            "Enter an integer: 9888899\n",
            "You entered: 9888899\n"
          ]
        }
      ],
      "source": [
        "#Create command to get input from user, the input should be integer\n",
        "\n",
        "num = int(input(\"Enter an integer: \"))\n",
        "print(\"You entered:\", num)"
      ]
    },
    {
      "cell_type": "code",
      "execution_count": null,
      "metadata": {
        "colab": {
          "base_uri": "https://localhost:8080/"
        },
        "id": "jC9mLViZi169",
        "outputId": "5bf98b12-c17b-487e-cd57-d739f7161d30"
      },
      "outputs": [
        {
          "output_type": "stream",
          "name": "stdout",
          "text": [
            "amount of currency Rp 100,000: 98\n",
            "amount of currency Rp 50,000: 1\n",
            "amount of currency Rp 20,000: 1\n",
            "amount of currency Rp 10,000: 1\n",
            "amount of currency Rp 5,000: 1\n",
            "amount of currency Rp 2,000: 1\n",
            "amount of currency Rp 1,000: 1\n",
            "amount of currency Rp 500: 1\n",
            "amount of currency Rp 200: 1\n",
            "amount of currency Rp 100: 1\n",
            "Total Paper Money: 104\n",
            "Total Coins: 3\n",
            "Cannot be cashed out: 99\n"
          ]
        }
      ],
      "source": [
        "#Create the code here\n",
        "def calculate_denominations(num):\n",
        "\n",
        "    if num > 1000000000:\n",
        "        return None, None, \"Maximum num is 1 billion Rupiah\"\n",
        "    elif num < 0:\n",
        "        return None, None, \"Please input the correct number\"\n",
        "\n",
        "    denominations = [100000, 50000, 20000, 10000, 5000, 2000, 1000, 500, 200, 100]\n",
        "    num_denominations = [0] * len(denominations)\n",
        "    paper_money_count = 0\n",
        "    coin_count = 0\n",
        "\n",
        "    for i, denomination in enumerate(denominations):\n",
        "        num_denominations[i] = num // denomination\n",
        "        num = num % denomination\n",
        "        if denomination >= 1000:\n",
        "            paper_money_count += num_denominations[i]\n",
        "        else:\n",
        "            coin_count += num_denominations[i]\n",
        "\n",
        "    return num_denominations, paper_money_count, coin_count, num\n",
        "\n",
        "num_denominations, paper_money_count, coin_count, uncashed_amount = calculate_denominations(num)\n",
        "\n",
        "if uncashed_amount is None:\n",
        "    print(\"Error:\", uncashed_amount)\n",
        "else:\n",
        "    print(\"amount of currency Rp 100,000:\", num_denominations[0])\n",
        "    print(\"amount of currency Rp 50,000:\", num_denominations[1])\n",
        "    print(\"amount of currency Rp 20,000:\", num_denominations[2])\n",
        "    print(\"amount of currency Rp 10,000:\", num_denominations[3])\n",
        "    print(\"amount of currency Rp 5,000:\", num_denominations[4])\n",
        "    print(\"amount of currency Rp 2,000:\", num_denominations[5])\n",
        "    print(\"amount of currency Rp 1,000:\", num_denominations[6])\n",
        "    print(\"amount of currency Rp 500:\", num_denominations[7])\n",
        "    print(\"amount of currency Rp 200:\", num_denominations[8])\n",
        "    print(\"amount of currency Rp 100:\", num_denominations[9])\n",
        "    print(\"Total Paper Money:\", paper_money_count)\n",
        "    print(\"Total Coins:\", coin_count)\n",
        "    print(\"Cannot be cashed out:\", uncashed_amount)"
      ]
    },
    {
      "cell_type": "code",
      "execution_count": null,
      "metadata": {
        "id": "d-jU7PP5jIVV"
      },
      "outputs": [],
      "source": []
    }
  ],
  "metadata": {
    "colab": {
      "provenance": []
    },
    "kernelspec": {
      "display_name": "Python 3",
      "name": "python3"
    },
    "language_info": {
      "codemirror_mode": {
        "name": "ipython",
        "version": 3
      },
      "file_extension": ".py",
      "mimetype": "text/x-python",
      "name": "python",
      "nbconvert_exporter": "python",
      "pygments_lexer": "ipython3",
      "version": "3.12.1"
    }
  },
  "nbformat": 4,
  "nbformat_minor": 0
}